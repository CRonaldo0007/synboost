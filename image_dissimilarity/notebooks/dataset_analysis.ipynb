{
 "cells": [
  {
   "cell_type": "code",
   "execution_count": 2,
   "metadata": {},
   "outputs": [],
   "source": [
    "import os\n",
    "from PIL import Image\n",
    "import numpy as np\n",
    "from tqdm import tqdm\n",
    "from matplotlib import pyplot as plt\n",
    "\n",
    "from natsort import natsorted"
   ]
  },
  {
   "cell_type": "code",
   "execution_count": 175,
   "metadata": {},
   "outputs": [],
   "source": [
    "# inputs\n",
    "epfl_data = '/home/giancarlo/data/innosuisse/epfl_og/train'\n",
    "og_data = '/home/giancarlo/data/innosuisse/og'\n",
    "\n",
    "semantic_paths = [os.path.join(epfl_data, 'semantic', image) \n",
    "                  for image in os.listdir(os.path.join(epfl_data, 'semantic'))]\n",
    "label_paths = [os.path.join(epfl_data, 'labels', image)\n",
    "                  for image in os.listdir(os.path.join(epfl_data, 'labels'))]\n",
    "semantic_paths_og = [os.path.join(og_data, 'semantic', image) \n",
    "                  for image in os.listdir(os.path.join(og_data, 'semantic'))]\n",
    "        \n",
    "# We need to sort the images to ensure all the pairs match with each other\n",
    "semantic_paths = natsorted(semantic_paths)\n",
    "semantic_paths_og = natsorted(semantic_paths_og)\n",
    "label_paths = natsorted(label_paths)"
   ]
  },
  {
   "cell_type": "code",
   "execution_count": 138,
   "metadata": {
    "scrolled": false
   },
   "outputs": [
    {
     "name": "stdout",
     "output_type": "stream",
     "text": [
      "0\n",
      "100\n",
      "200\n",
      "300\n",
      "400\n",
      "500\n",
      "600\n",
      "700\n",
      "800\n",
      "900\n",
      "1000\n",
      "1100\n",
      "1200\n",
      "1300\n",
      "1400\n",
      "1500\n",
      "1600\n",
      "1700\n",
      "1800\n",
      "1900\n",
      "2000\n",
      "2100\n",
      "2200\n",
      "2300\n",
      "2400\n",
      "2500\n",
      "2600\n",
      "2700\n",
      "2800\n",
      "2900\n"
     ]
    }
   ],
   "source": [
    "results = np.zeros((19,19), np.int32)\n",
    "for idx, (semantic, label, semantic_og) in enumerate(zip(semantic_paths, label_paths, semantic_paths_og)):        \n",
    "    if (idx % 100) == 0:\n",
    "        print(idx)\n",
    "    label_img = np.array(Image.open(label))\n",
    "    semantic_img = np.array(Image.open(semantic))\n",
    "    semantic_og_img = np.array(Image.open(semantic_og))\n",
    "    \n",
    "    semantic_og_img_flat = semantic_og_img.flatten()\n",
    "    semantic_img_flat = semantic_img.flatten()\n",
    "    label_img_flat = label_img.flatten()\n",
    "    for idx, pixel in enumerate(semantic_img_flat):\n",
    "        if pixel ==  255 or semantic_og_img_flat[idx] == semantic_img_flat[idx] or semantic_og_img_flat[idx]==255:\n",
    "            continue   \n",
    "        else:\n",
    "            results[semantic_img_flat[idx], semantic_og_img_flat[idx]] += 1"
   ]
  },
  {
   "cell_type": "code",
   "execution_count": 145,
   "metadata": {},
   "outputs": [],
   "source": [
    "def plot_confusion_matrix(cm,\n",
    "                          title=None,\n",
    "                          cmap=plt.cm.Blues):\n",
    "    \"\"\"\n",
    "    This function  plots the confusion matrix.    \"\"\"\n",
    "    if not title:\n",
    "        title = 'Augmentation Relationships in EPFL Dataset'\n",
    "\n",
    "    print(cm)\n",
    "\n",
    "    fig, ax = plt.subplots()\n",
    "    im = ax.imshow(cm, interpolation='nearest', cmap=cmap)\n",
    "    ax.figure.colorbar(im, ax=ax)\n",
    "    # We want to show all ticks...\n",
    "    ax.set(xticks=np.arange(cm.shape[1]),\n",
    "           yticks=np.arange(cm.shape[0]),\n",
    "           # ... and label them with the respective list entries\n",
    "           #xticklabels=classes, yticklabels=classes,\n",
    "           title=title,\n",
    "           ylabel='Augmented label',\n",
    "           xlabel='True label')\n",
    "\n",
    "    # Rotate the tick labels and set their alignment.\n",
    "    plt.setp(ax.get_xticklabels(), rotation=45, ha=\"right\",\n",
    "             rotation_mode=\"anchor\")\n",
    "\n",
    "    # Loop over data dimensions and create text annotations.\n",
    "    fmt = 'f'\n",
    "    thresh = cm.max() / 2.\n",
    "    #for i in range(cm.shape[0]):\n",
    "    #    for j in range(cm.shape[1]):\n",
    "    #        ax.text(j, i, format(cm[i, j], fmt),\n",
    "    #                ha=\"center\", va=\"center\",\n",
    "    #                color=\"white\" if cm[i, j] > thresh else \"black\")\n",
    "    fig.tight_layout()\n",
    "    return ax"
   ]
  },
  {
   "cell_type": "code",
   "execution_count": 146,
   "metadata": {},
   "outputs": [
    {
     "name": "stdout",
     "output_type": "stream",
     "text": [
      "[[      0       0       0       0       0       0       0       0       0\n",
      "        0       0  362217   58769 2261591  125785   19386  119600   51431\n",
      "   107482]\n",
      " [      0       0       0       0       0       0       0       0       0\n",
      "        0       0  404450   34682 2729845   61245   57922   56415   29623\n",
      "    95765]\n",
      " [      0       0       0       0       0       0       0       0       0\n",
      "        0       0  429480   53303 2140029   85177   97542  279657   27007\n",
      "   125653]\n",
      " [      0       0       0       0       0       0       0       0       0\n",
      "        0       0  502559   47407 2746695   52529    1199   65616   35690\n",
      "   155381]\n",
      " [      0       0       0       0       0       0       0       0       0\n",
      "        0       0  518650   23061 2982303  153130   62187   78816   17153\n",
      "    87308]\n",
      " [      0       0       0       0       0       0       0       0       0\n",
      "        0       0  451491   38792 2416099   41035   71438   43337   33130\n",
      "    72986]\n",
      " [      0       0       0       0       0       0       0       0       0\n",
      "        0       0  432709   39717 2313579  114299   17934  161941   25224\n",
      "    94832]\n",
      " [      0       0       0       0       0       0       0       0       0\n",
      "        0       0  403217   66566 3002859   16588   34729   55708   99056\n",
      "   108425]\n",
      " [      0       0       0       0       0       0       0       0       0\n",
      "        0       0  437361   68255 2834586   46244   66053  370958   26961\n",
      "    83532]\n",
      " [      0       0       0       0       0       0       0       0       0\n",
      "        0       0  488975   53716 2937800   89837   75269    4744   40506\n",
      "   100733]\n",
      " [      0       0       0       0       0       0       0       0       0\n",
      "        0       0  385923   66343 2354946   61539   44548   17450   27312\n",
      "    78121]\n",
      " [      0       0       0       0       0       0       0       0       0\n",
      "        0       0       0   38146 2670226   61853   73155  161914   32855\n",
      "   131834]\n",
      " [      0       0       0       0       0       0       0       0       0\n",
      "        0       0  483951       0 2769617   78512   62882  195472   60732\n",
      "   115275]\n",
      " [      0       0       0       0       0       0       0       0       0\n",
      "        0       0  409130   56364       0   70259   34880   35312   35982\n",
      "   130423]\n",
      " [      0       0       0       0       0       0       0       0       0\n",
      "        0       0  395145   38700 2915398       0  168114   46892   23202\n",
      "    80483]\n",
      " [      0       0       0       0       0       0       0       0       0\n",
      "        0       0  521101   83588 1963614  122351       0   43079   26996\n",
      "   117865]\n",
      " [      0       0       0       0       0       0       0       0       0\n",
      "        0       0  487772   46924 2695896   20766  231632       0   29453\n",
      "    91000]\n",
      " [      0       0       0       0       0       0       0       0       0\n",
      "        0       0  408567   20165 2695979  112586   53607  123395       0\n",
      "    77745]\n",
      " [      0       0       0       0       0       0       0       0       0\n",
      "        0       0  427910   34232 2757813   27047   64713  110604   23769\n",
      "        0]]\n"
     ]
    },
    {
     "data": {
      "image/png": "[encoded data removed]",
      "text/plain": [
       "<Figure size 432x288 with 2 Axes>"
      ]
     },
     "metadata": {
      "needs_background": "light"
     },
     "output_type": "display_data"
    }
   ],
   "source": [
    "plot_confusion_matrix(results)\n",
    "np.save('/home/giancarlo/code/epfl.npy', results)"
   ]
  },
  {
   "cell_type": "code",
   "execution_count": 174,
   "metadata": {},
   "outputs": [
    {
     "data": {
      "image/png": "[encoded data removed]",
      "text/plain": [
       "<Figure size 432x288 with 1 Axes>"
      ]
     },
     "metadata": {
      "needs_background": "light"
     },
     "output_type": "display_data"
    }
   ],
   "source": [
    "x_bar = range(0,19, 1)\n",
    "totals = np.sum(results, axis=1)\n",
    "fig, ax = plt.subplots()\n",
    "rects1 = ax.bar(x_bar, totals/100000)\n",
    "\n",
    "# Add some text for labels, title and custom x-axis tick labels, etc.\n",
    "ax.set_ylabel('Pixel Count * (10^5)')\n",
    "ax.set_xlabel('Labels')\n",
    "ax.set_title('Distribution of Augmented Labels')\n",
    "ax.set_xticks(x_bar)\n",
    "ax.ticklabel_format(axis='y', style='scientific')"
   ]
  },
  {
   "cell_type": "code",
   "execution_count": 165,
   "metadata": {},
   "outputs": [
    {
     "data": {
      "text/plain": [
       "[<matplotlib.axis.XTick at 0x7fdc24bf5990>,\n",
       " <matplotlib.axis.XTick at 0x7fdc24be3210>,\n",
       " <matplotlib.axis.XTick at 0x7fdc24be3850>,\n",
       " <matplotlib.axis.XTick at 0x7fdc2463bf50>,\n",
       " <matplotlib.axis.XTick at 0x7fdc2464f550>,\n",
       " <matplotlib.axis.XTick at 0x7fdc2464fb50>,\n",
       " <matplotlib.axis.XTick at 0x7fdc24668290>,\n",
       " <matplotlib.axis.XTick at 0x7fdc24668850>,\n",
       " <matplotlib.axis.XTick at 0x7fdc24668e90>,\n",
       " <matplotlib.axis.XTick at 0x7fdc24668750>,\n",
       " <matplotlib.axis.XTick at 0x7fdc2464f050>,\n",
       " <matplotlib.axis.XTick at 0x7fdc24f606d0>,\n",
       " <matplotlib.axis.XTick at 0x7fdc24f60ed0>,\n",
       " <matplotlib.axis.XTick at 0x7fdc24f52510>,\n",
       " <matplotlib.axis.XTick at 0x7fdc24f52b50>,\n",
       " <matplotlib.axis.XTick at 0x7fdc24f73250>,\n",
       " <matplotlib.axis.XTick at 0x7fdc24f73810>,\n",
       " <matplotlib.axis.XTick at 0x7fdc24f73e50>,\n",
       " <matplotlib.axis.XTick at 0x7fdc24f73d50>]"
      ]
     },
     "execution_count": 165,
     "metadata": {},
     "output_type": "execute_result"
    },
    {
     "data": {
      "image/png": "[encoded data removed]",
      "text/plain": [
       "<Figure size 432x288 with 1 Axes>"
      ]
     },
     "metadata": {
      "needs_background": "light"
     },
     "output_type": "display_data"
    }
   ],
   "source": [
    "x_bar = range(0,19, 1)\n",
    "totals = np.sum(results, axis=0)\n",
    "fig, ax = plt.subplots()\n",
    "rects1 = ax.bar(x_bar, totals)\n",
    "\n",
    "# Add some text for labels, title and custom x-axis tick labels, etc.\n",
    "ax.set_ylabel('Pixel Count')\n",
    "ax.set_xlabel('Labels')\n",
    "ax.set_title('Distribution of True Labels That Got Augmented')\n",
    "ax.set_xticks(x_bar)"
   ]
  },
  {
   "cell_type": "code",
   "execution_count": 168,
   "metadata": {},
   "outputs": [
    {
     "name": "stdout",
     "output_type": "stream",
     "text": [
      "[[ 362217   58769 2261591  125785   19386  119600   51431  107482]\n",
      " [ 404450   34682 2729845   61245   57922   56415   29623   95765]\n",
      " [ 429480   53303 2140029   85177   97542  279657   27007  125653]\n",
      " [ 502559   47407 2746695   52529    1199   65616   35690  155381]\n",
      " [ 518650   23061 2982303  153130   62187   78816   17153   87308]\n",
      " [ 451491   38792 2416099   41035   71438   43337   33130   72986]\n",
      " [ 432709   39717 2313579  114299   17934  161941   25224   94832]\n",
      " [ 403217   66566 3002859   16588   34729   55708   99056  108425]\n",
      " [ 437361   68255 2834586   46244   66053  370958   26961   83532]\n",
      " [ 488975   53716 2937800   89837   75269    4744   40506  100733]\n",
      " [ 385923   66343 2354946   61539   44548   17450   27312   78121]\n",
      " [      0   38146 2670226   61853   73155  161914   32855  131834]\n",
      " [ 483951       0 2769617   78512   62882  195472   60732  115275]\n",
      " [ 409130   56364       0   70259   34880   35312   35982  130423]\n",
      " [ 395145   38700 2915398       0  168114   46892   23202   80483]\n",
      " [ 521101   83588 1963614  122351       0   43079   26996  117865]\n",
      " [ 487772   46924 2695896   20766  231632       0   29453   91000]\n",
      " [ 408567   20165 2695979  112586   53607  123395       0   77745]\n",
      " [ 427910   34232 2757813   27047   64713  110604   23769       0]]\n"
     ]
    }
   ],
   "source": [
    "print(results[:,11:])"
   ]
  },
  {
   "cell_type": "markdown",
   "metadata": {},
   "source": [
    "## FS Static Predictions"
   ]
  },
  {
   "cell_type": "markdown",
   "metadata": {},
   "source": [
    "### Original Size "
   ]
  },
  {
   "cell_type": "code",
   "execution_count": 225,
   "metadata": {},
   "outputs": [],
   "source": [
    "# inputs\n",
    "fs_static_data = '/home/giancarlo/data/innosuisse/fs_static'\n",
    "\n",
    "semantic_paths = [os.path.join(fs_static_data, 'semantic', image) \n",
    "                  for image in os.listdir(os.path.join(fs_static_data, 'semantic'))]\n",
    "label_paths = [os.path.join(fs_static_data, 'labels', image)\n",
    "                  for image in os.listdir(os.path.join(fs_static_data, 'labels'))]\n",
    "        \n",
    "# We need to sort the images to ensure all the pairs match with each other\n",
    "semantic_paths = natsorted(semantic_paths)\n",
    "label_paths = natsorted(label_paths)"
   ]
  },
  {
   "cell_type": "code",
   "execution_count": 226,
   "metadata": {},
   "outputs": [
    {
     "name": "stdout",
     "output_type": "stream",
     "text": [
      "0\n",
      "10\n",
      "20\n"
     ]
    }
   ],
   "source": [
    "results = [0]*19\n",
    "\n",
    "for idx, (semantic, label) in enumerate(zip(semantic_paths, label_paths)):        \n",
    "    if (idx % 10) == 0:\n",
    "        print(idx)\n",
    "    label_img = np.array(Image.open(label))\n",
    "    semantic_img = np.array(Image.open(semantic))\n",
    "    semantic_img_flat = semantic_img.flatten()\n",
    "    label_img_flat = label_img.flatten()\n",
    "    \n",
    "    for idx, pixel in enumerate(label_img_flat):\n",
    "        if pixel ==  1:\n",
    "            results[semantic_img_flat[idx]] += 1"
   ]
  },
  {
   "cell_type": "code",
   "execution_count": 227,
   "metadata": {},
   "outputs": [
    {
     "data": {
      "image/png": "[encoded data removed]",
      "text/plain": [
       "<Figure size 432x288 with 1 Axes>"
      ]
     },
     "metadata": {
      "needs_background": "light"
     },
     "output_type": "display_data"
    }
   ],
   "source": [
    "x_bar = range(1,19, 1)\n",
    "fig, ax = plt.subplots()\n",
    "rects1 = ax.bar(x_bar, results[1:])\n",
    "\n",
    "# Add some text for labels, title and custom x-axis tick labels, etc.\n",
    "ax.set_ylabel('Pixel Count')\n",
    "ax.set_xlabel('Labels')\n",
    "ax.set_title('Distribution of Anomaly Labels')\n",
    "ax.set_xticks(x_bar)\n",
    "ax.ticklabel_format(axis='y', style='scientific')"
   ]
  },
  {
   "cell_type": "code",
   "execution_count": 309,
   "metadata": {},
   "outputs": [],
   "source": [
    "# inputs\n",
    "data = '/home/giancarlo/data/innosuisse/fs_static'\n",
    "\n",
    "semantic_paths = [os.path.join(data, 'semantic', image) \n",
    "                  for image in os.listdir(os.path.join(data, 'semantic'))]\n",
    "label_paths = [os.path.join(data, 'predictions', 'spade_custom_dynamic_epfl', 'pred', image)\n",
    "                  for image in os.listdir(os.path.join(data, 'predictions', 'spade_custom_dynamic_epfl', 'pred'))]\n",
    "predictions_paths = [os.path.join(data, 'predictions', 'spade_custom_dynamic_epfl', 'label', image)\n",
    "                  for image in os.listdir(os.path.join(data, 'predictions', 'spade_custom_dynamic_epfl', 'label'))]\n",
    "        \n",
    "# We need to sort the images to ensure all the pairs match with each other\n",
    "semantic_paths = natsorted(semantic_paths)\n",
    "label_paths = natsorted(label_paths)\n",
    "predictions_paths = natsorted(predictions_paths)"
   ]
  },
  {
   "cell_type": "code",
   "execution_count": 310,
   "metadata": {},
   "outputs": [
    {
     "name": "stdout",
     "output_type": "stream",
     "text": [
      "0\n",
      "10\n",
      "20\n"
     ]
    }
   ],
   "source": [
    "results_2 = [0]*30\n",
    "results = [0]*30\n",
    "\n",
    "for idx, (semantic, label, predict) in enumerate(zip(semantic_paths, label_paths, predictions_paths)):        \n",
    "    if (idx % 10) == 0:\n",
    "        print(idx)\n",
    "    predict_img = Image.open(predict)\n",
    "    label_img = np.array(Image.open(label))\n",
    "    semantic_img = np.array(Image.open(semantic).resize(predict_img.size))\n",
    "    predict_img = np.array(predict_img)\n",
    "\n",
    "    semantic_img_flat = semantic_img.flatten()\n",
    "    label_img_flat = label_img.flatten()\n",
    "    predict_img_flat = predict_img.flatten()\n",
    "    for idx, pixel in enumerate(label_img_flat):\n",
    "        if pixel ==  1:\n",
    "            results[semantic_img_flat[idx]] += 1\n",
    "            if predict_img_flat[idx]==1:\n",
    "                results_2[semantic_img_flat[idx]] += 1"
   ]
  },
  {
   "cell_type": "code",
   "execution_count": 311,
   "metadata": {},
   "outputs": [
    {
     "name": "stdout",
     "output_type": "stream",
     "text": [
      "21.499692188939214\n"
     ]
    },
    {
     "data": {
      "image/png": "[encoded data removed]",
      "text/plain": [
       "<Figure size 432x288 with 1 Axes>"
      ]
     },
     "metadata": {
      "needs_background": "light"
     },
     "output_type": "display_data"
    }
   ],
   "source": [
    "precision = [result_2/result*100 for result, result_2 in zip(results, results_2) if result_2 != 0]\n",
    "\n",
    "x_bar = range(0,19, 1)\n",
    "fig, ax = plt.subplots()\n",
    "rects1 = ax.bar(x_bar, precision[:19])\n",
    "\n",
    "# Add some text for labels, title and custom x-axis tick labels, etc.\n",
    "ax.set_ylabel('Accuracy (%)')\n",
    "ax.set_xlabel('Labels')\n",
    "ax.set_title('Accuracy per Label')\n",
    "ax.set_xticks(x_bar)\n",
    "ax.ticklabel_format(axis='y', style='scientific')\n",
    "print(sum(precision)/19)"
   ]
  },
  {
   "cell_type": "markdown",
   "metadata": {},
   "source": [
    "## FS Lost Found"
   ]
  },
  {
   "cell_type": "code",
   "execution_count": 221,
   "metadata": {},
   "outputs": [],
   "source": [
    "# inputs\n",
    "data = '/home/giancarlo/data/innosuisse/fs_lost_and_found'\n",
    "\n",
    "semantic_paths = [os.path.join(data, 'semantic', image) \n",
    "                  for image in os.listdir(os.path.join(data, 'semantic'))]\n",
    "label_paths = [os.path.join(data, 'labels', image)\n",
    "                  for image in os.listdir(os.path.join(data, 'labels'))]\n",
    "        \n",
    "# We need to sort the images to ensure all the pairs match with each other\n",
    "semantic_paths = natsorted(semantic_paths)\n",
    "label_paths = natsorted(label_paths)"
   ]
  },
  {
   "cell_type": "code",
   "execution_count": 222,
   "metadata": {},
   "outputs": [
    {
     "name": "stdout",
     "output_type": "stream",
     "text": [
      "0\n",
      "/home/giancarlo/data/innosuisse/fs_lost_and_found/semantic/pred_mask_image_0.png\n",
      "[ 0  1  2  4  5  6  7  8  9 10 11 13 14]\n",
      "/home/giancarlo/data/innosuisse/fs_lost_and_found/semantic/pred_mask_image_1.png\n",
      "[ 0  1  2  3  4  5  7  8  9 10 11 13 14 15 16 17 18]\n",
      "/home/giancarlo/data/innosuisse/fs_lost_and_found/semantic/pred_mask_image_2.png\n",
      "[ 0  1  2  3  4  5  6  7  8  9 10 11 12 13 14 15 16 17 18]\n",
      "/home/giancarlo/data/innosuisse/fs_lost_and_found/semantic/pred_mask_image_3.png\n",
      "[ 0  1  2  3  4  5  6  7  8  9 10 11 13 14 15 18]\n",
      "/home/giancarlo/data/innosuisse/fs_lost_and_found/semantic/pred_mask_image_4.png\n",
      "[ 0  1  2  3  4  5  7  8  9 10 13 14 15 16]\n",
      "/home/giancarlo/data/innosuisse/fs_lost_and_found/semantic/pred_mask_image_5.png\n",
      "[ 0  1  2  4  5  6  8  9 10 11 12 13 15 16 17 18]\n",
      "/home/giancarlo/data/innosuisse/fs_lost_and_found/semantic/pred_mask_image_6.png\n",
      "[ 0  1  2  3  4  5  6  7  8 10 11 13 14 15 17]\n",
      "/home/giancarlo/data/innosuisse/fs_lost_and_found/semantic/pred_mask_image_7.png\n",
      "[ 0  1  2  3  4  5  6  7  8  9 10 11 12 13 14 15 16 17 18]\n",
      "/home/giancarlo/data/innosuisse/fs_lost_and_found/semantic/pred_mask_image_8.png\n",
      "[ 0  1  2  3  4  5  8  9 10 11 13 14 15 16 18]\n",
      "/home/giancarlo/data/innosuisse/fs_lost_and_found/semantic/pred_mask_image_9.png\n",
      "[ 0  1  2  3  4  5  6  7  8  9 10 13 14 15 17 18]\n",
      "10\n",
      "/home/giancarlo/data/innosuisse/fs_lost_and_found/semantic/pred_mask_image_10.png\n",
      "[ 0  1  2  3  4  5  7  8  9 10 11 13 14 15 18]\n",
      "/home/giancarlo/data/innosuisse/fs_lost_and_found/semantic/pred_mask_image_11.png\n",
      "[ 0  1  2  3  4  5  7  8  9 10 11 13 15 17 18]\n",
      "/home/giancarlo/data/innosuisse/fs_lost_and_found/semantic/pred_mask_image_12.png\n",
      "[ 0  1  2  3  4  5  7  8  9 10 11 12 13 14 15 16 17]\n",
      "/home/giancarlo/data/innosuisse/fs_lost_and_found/semantic/pred_mask_image_13.png\n",
      "[ 0  1  2  4  5  7  8  9 10 13 14 15]\n",
      "/home/giancarlo/data/innosuisse/fs_lost_and_found/semantic/pred_mask_image_14.png\n",
      "[ 0  1  2  3  4  5  6  7  8  9 10 11 12 13 14]\n",
      "/home/giancarlo/data/innosuisse/fs_lost_and_found/semantic/pred_mask_image_15.png\n",
      "[ 0  1  2  3  4  5  6  8  9 10 13 14 15 16 17]\n",
      "/home/giancarlo/data/innosuisse/fs_lost_and_found/semantic/pred_mask_image_16.png\n",
      "[ 0  1  2  3  4  5  6  7  8  9 10 11 13 14 15 16 17]\n",
      "/home/giancarlo/data/innosuisse/fs_lost_and_found/semantic/pred_mask_image_17.png\n",
      "[ 0  1  2  3  4  5  8  9 10 11 13 14 15 16 17]\n",
      "/home/giancarlo/data/innosuisse/fs_lost_and_found/semantic/pred_mask_image_18.png\n",
      "[ 0  1  2  3  4  5  7  8  9 10 13 14 15 17]\n",
      "/home/giancarlo/data/innosuisse/fs_lost_and_found/semantic/pred_mask_image_19.png\n",
      "[ 0  1  2  3  4  5  6  7  8  9 10 11 13 14 15 16]\n",
      "20\n",
      "/home/giancarlo/data/innosuisse/fs_lost_and_found/semantic/pred_mask_image_20.png\n",
      "[ 0  1  2  4  5  6  7  8  9 10 12 13 14 15 16 17 18]\n",
      "/home/giancarlo/data/innosuisse/fs_lost_and_found/semantic/pred_mask_image_21.png\n",
      "[ 0  1  2  4  5  8  9 10 13 14 15]\n",
      "/home/giancarlo/data/innosuisse/fs_lost_and_found/semantic/pred_mask_image_22.png\n",
      "[ 0  1  2  3  4  5  7  8  9 10 11 12 13 14 15 17]\n",
      "/home/giancarlo/data/innosuisse/fs_lost_and_found/semantic/pred_mask_image_23.png\n",
      "[ 0  1  2  3  4  5  8  9 10 11 13 15 16 17]\n",
      "/home/giancarlo/data/innosuisse/fs_lost_and_found/semantic/pred_mask_image_24.png\n",
      "[ 0  1  2  4  5  8  9 10 13 14]\n",
      "/home/giancarlo/data/innosuisse/fs_lost_and_found/semantic/pred_mask_image_25.png\n",
      "[ 0  1  2  3  4  5  6  7  8  9 10 13 14 15 16 17]\n",
      "/home/giancarlo/data/innosuisse/fs_lost_and_found/semantic/pred_mask_image_26.png\n",
      "[ 0  1  2  3  4  5  6  7  8  9 10 11 13 14 15]\n",
      "/home/giancarlo/data/innosuisse/fs_lost_and_found/semantic/pred_mask_image_27.png\n",
      "[ 0  1  2  3  4  5  7  8  9 10 13 14 15 16 17]\n",
      "/home/giancarlo/data/innosuisse/fs_lost_and_found/semantic/pred_mask_image_28.png\n",
      "[ 0  1  2  3  4  5  7  8  9 10 13 14 15 16 18]\n",
      "/home/giancarlo/data/innosuisse/fs_lost_and_found/semantic/pred_mask_image_29.png\n",
      "[ 0  1  2  3  4  5  8  9 10 13 14]\n",
      "30\n",
      "/home/giancarlo/data/innosuisse/fs_lost_and_found/semantic/pred_mask_image_30.png\n",
      "[ 0  1  2  3  4  5  8  9 11 13 15 17]\n",
      "/home/giancarlo/data/innosuisse/fs_lost_and_found/semantic/pred_mask_image_31.png\n",
      "[ 0  1  2  3  4  5  6  7  8  9 10 11 13 14 15 17 18]\n",
      "/home/giancarlo/data/innosuisse/fs_lost_and_found/semantic/pred_mask_image_32.png\n",
      "[ 0  1  2  3  4  5  7  8  9 10 11 12 13 14 15]\n",
      "/home/giancarlo/data/innosuisse/fs_lost_and_found/semantic/pred_mask_image_33.png\n",
      "[ 0  1  2  4  5  8  9 10 11 13 14]\n",
      "/home/giancarlo/data/innosuisse/fs_lost_and_found/semantic/pred_mask_image_34.png\n",
      "[ 0  1  2  3  4  5  7  8  9 10 11 13 14 15 16]\n",
      "/home/giancarlo/data/innosuisse/fs_lost_and_found/semantic/pred_mask_image_35.png\n",
      "[ 0  1  2  3  4  5  6  7  8  9 10 11 13 14 15 16 18]\n",
      "/home/giancarlo/data/innosuisse/fs_lost_and_found/semantic/pred_mask_image_36.png\n",
      "[ 0  1  2  3  4  5  7  8  9 10 11 12 13 14]\n",
      "/home/giancarlo/data/innosuisse/fs_lost_and_found/semantic/pred_mask_image_37.png\n",
      "[ 0  1  2  3  4  5  8  9 10 11 13 15 16]\n",
      "/home/giancarlo/data/innosuisse/fs_lost_and_found/semantic/pred_mask_image_38.png\n",
      "[ 0  1  2  3  4  5  7  8 10 11 12 13 15]\n",
      "/home/giancarlo/data/innosuisse/fs_lost_and_found/semantic/pred_mask_image_39.png\n",
      "[ 0  1  2  4  5  8  9 10 11 13 14 15 16 17 18]\n",
      "40\n",
      "/home/giancarlo/data/innosuisse/fs_lost_and_found/semantic/pred_mask_image_40.png\n",
      "[ 0  1  2  3  4  5  7  8  9 10 11 13]\n",
      "/home/giancarlo/data/innosuisse/fs_lost_and_found/semantic/pred_mask_image_41.png\n",
      "[ 0  1  2  3  4  5  6  8 10 13 15]\n",
      "/home/giancarlo/data/innosuisse/fs_lost_and_found/semantic/pred_mask_image_42.png\n",
      "[ 0  1  2  4  5  6  7  8  9 10 13 15 16 17 18]\n",
      "/home/giancarlo/data/innosuisse/fs_lost_and_found/semantic/pred_mask_image_43.png\n",
      "[ 0  1  2  3  4  5  6  7  8  9 10 11 13 14 15 16]\n",
      "/home/giancarlo/data/innosuisse/fs_lost_and_found/semantic/pred_mask_image_44.png\n",
      "[ 0  1  2  4  5  7  8  9 10 11 12 13 14 15 16 17 18]\n",
      "/home/giancarlo/data/innosuisse/fs_lost_and_found/semantic/pred_mask_image_45.png\n",
      "[ 0  1  2  3  4  5  7  8 11 13 18]\n",
      "/home/giancarlo/data/innosuisse/fs_lost_and_found/semantic/pred_mask_image_46.png\n",
      "[ 0  1  2  4  5  7  8  9 10 11 12 13 14 15 16 17]\n",
      "/home/giancarlo/data/innosuisse/fs_lost_and_found/semantic/pred_mask_image_47.png\n",
      "[ 0  1  2  3  4  5  7  8  9 10 13 15 16 18]\n",
      "/home/giancarlo/data/innosuisse/fs_lost_and_found/semantic/pred_mask_image_48.png\n",
      "[ 0  1  2  4  5  6  7  8  9 10 13 14 15]\n",
      "/home/giancarlo/data/innosuisse/fs_lost_and_found/semantic/pred_mask_image_49.png\n",
      "[ 0  1  2  3  4  5  6  7  8  9 10 11 12 13 14 15 16 17]\n",
      "50\n",
      "/home/giancarlo/data/innosuisse/fs_lost_and_found/semantic/pred_mask_image_50.png\n",
      "[ 0  1  2  3  4  5  6  8  9 10 11 13 14 15 16]\n",
      "/home/giancarlo/data/innosuisse/fs_lost_and_found/semantic/pred_mask_image_51.png\n",
      "[ 0  1  2  3  4  5  6  7  8  9 10 11 12 13 15 16 17]\n",
      "/home/giancarlo/data/innosuisse/fs_lost_and_found/semantic/pred_mask_image_52.png\n",
      "[ 0  1  2  3  4  5  7  8  9 10 12 13 15 16 18]\n",
      "/home/giancarlo/data/innosuisse/fs_lost_and_found/semantic/pred_mask_image_53.png\n",
      "[ 0  1  2  4  5  8  9 10 11 13 15 16 18]\n",
      "/home/giancarlo/data/innosuisse/fs_lost_and_found/semantic/pred_mask_image_54.png\n",
      "[ 0  1  2  3  4  5  7  8  9 10 11 13 15]\n",
      "/home/giancarlo/data/innosuisse/fs_lost_and_found/semantic/pred_mask_image_55.png\n",
      "[ 0  1  2  3  4  5  7  8  9 10 13 14 15 16 17]\n",
      "/home/giancarlo/data/innosuisse/fs_lost_and_found/semantic/pred_mask_image_56.png\n",
      "[ 0  1  2  4  5  7  8  9 10 11 13 14 18]\n",
      "/home/giancarlo/data/innosuisse/fs_lost_and_found/semantic/pred_mask_image_57.png\n",
      "[ 0  1  2  3  4  5  7  8  9 10 13 14 15 16 18]\n",
      "/home/giancarlo/data/innosuisse/fs_lost_and_found/semantic/pred_mask_image_58.png\n",
      "[ 0  1  2  3  4  5  6  7  8  9 10 11 13 14 15 16]\n",
      "/home/giancarlo/data/innosuisse/fs_lost_and_found/semantic/pred_mask_image_59.png\n",
      "[ 0  1  2  4  5  8  9 10 11 13 15 16 17 18]\n",
      "60\n",
      "/home/giancarlo/data/innosuisse/fs_lost_and_found/semantic/pred_mask_image_60.png\n",
      "[ 0  1  2  4  5  7  8  9 10 11 13 14 15 16]\n",
      "/home/giancarlo/data/innosuisse/fs_lost_and_found/semantic/pred_mask_image_61.png\n",
      "[ 0  1  2  4  5  6  7  8  9 10 11 12 13 15 16 17]\n",
      "/home/giancarlo/data/innosuisse/fs_lost_and_found/semantic/pred_mask_image_62.png\n",
      "[ 0  1  2  4  5  8  9 10 11 13 15 16 18]\n",
      "/home/giancarlo/data/innosuisse/fs_lost_and_found/semantic/pred_mask_image_63.png\n",
      "[ 0  1  2  3  4  5  6  7  8  9 10 11 12 13 14 16 17 18]\n"
     ]
    },
    {
     "name": "stdout",
     "output_type": "stream",
     "text": [
      "/home/giancarlo/data/innosuisse/fs_lost_and_found/semantic/pred_mask_image_64.png\n",
      "[ 0  1  2  3  4  5  6  7  8  9 10 11 13 14 15]\n",
      "/home/giancarlo/data/innosuisse/fs_lost_and_found/semantic/pred_mask_image_65.png\n",
      "[ 0  1  2  4  5  7  8  9 10 11 12 13 14 15 16 17]\n",
      "/home/giancarlo/data/innosuisse/fs_lost_and_found/semantic/pred_mask_image_66.png\n",
      "[ 0  1  2  3  4  5  7  8  9 10 11 13 14]\n",
      "/home/giancarlo/data/innosuisse/fs_lost_and_found/semantic/pred_mask_image_67.png\n",
      "[ 0  1  2  3  4  5  7  8  9 10 11 13 14 16]\n",
      "/home/giancarlo/data/innosuisse/fs_lost_and_found/semantic/pred_mask_image_68.png\n",
      "[ 0  1  2  4  5  6  7  8  9 10 12 13 14 15 16 17]\n",
      "/home/giancarlo/data/innosuisse/fs_lost_and_found/semantic/pred_mask_image_69.png\n",
      "[ 0  1  2  3  4  5  8  9 10 11 13]\n",
      "70\n",
      "/home/giancarlo/data/innosuisse/fs_lost_and_found/semantic/pred_mask_image_70.png\n",
      "[ 0  1  2  3  4  5  8  9 10 11 13 14 15 18]\n",
      "/home/giancarlo/data/innosuisse/fs_lost_and_found/semantic/pred_mask_image_71.png\n",
      "[ 0  1  2  3  4  5  6  7  8  9 10 13 14 15 16]\n",
      "/home/giancarlo/data/innosuisse/fs_lost_and_found/semantic/pred_mask_image_72.png\n",
      "[ 0  1  2  3  4  5  6  7  8  9 10 11 12 13 15 18]\n",
      "/home/giancarlo/data/innosuisse/fs_lost_and_found/semantic/pred_mask_image_73.png\n",
      "[ 0  1  2  4  5  8  9 10 11 13 14 15 17 18]\n",
      "/home/giancarlo/data/innosuisse/fs_lost_and_found/semantic/pred_mask_image_74.png\n",
      "[ 0  1  2  3  4  5  7  8 10 13 15]\n",
      "/home/giancarlo/data/innosuisse/fs_lost_and_found/semantic/pred_mask_image_75.png\n",
      "[ 0  1  2  3  4  5  6  7  8  9 10 11 13 14 16]\n",
      "/home/giancarlo/data/innosuisse/fs_lost_and_found/semantic/pred_mask_image_76.png\n",
      "[ 0  1  2  3  4  5  7  8 10 11 13 14 15 16]\n",
      "/home/giancarlo/data/innosuisse/fs_lost_and_found/semantic/pred_mask_image_77.png\n",
      "[ 0  1  2  3  4  5  8  9 10 11 12 13 15 16 18]\n",
      "/home/giancarlo/data/innosuisse/fs_lost_and_found/semantic/pred_mask_image_78.png\n",
      "[ 0  1  2  4  5  8  9 10 13 15 16 17 18]\n",
      "/home/giancarlo/data/innosuisse/fs_lost_and_found/semantic/pred_mask_image_79.png\n",
      "[ 0  1  2  3  4  5  6  7  8  9 10 13 14 15]\n",
      "80\n",
      "/home/giancarlo/data/innosuisse/fs_lost_and_found/semantic/pred_mask_image_80.png\n",
      "[ 0  1  2  4  5  6  7  8  9 10 11 12 13 14 15 16 17]\n",
      "/home/giancarlo/data/innosuisse/fs_lost_and_found/semantic/pred_mask_image_81.png\n",
      "[ 0  1  2  3  4  5  7  8  9 10 11 13 14 15 16]\n",
      "/home/giancarlo/data/innosuisse/fs_lost_and_found/semantic/pred_mask_image_82.png\n",
      "[ 0  1  2  3  4  5  6  7  8  9 10 12 13 14 15 16 17]\n",
      "/home/giancarlo/data/innosuisse/fs_lost_and_found/semantic/pred_mask_image_83.png\n",
      "[ 0  1  2  3  4  5  6  7  8  9 10 11 12 13 14 15 16 17 18]\n",
      "/home/giancarlo/data/innosuisse/fs_lost_and_found/semantic/pred_mask_image_84.png\n",
      "[ 0  1  2  4  5  7  8  9 10 13 14 18]\n",
      "/home/giancarlo/data/innosuisse/fs_lost_and_found/semantic/pred_mask_image_85.png\n",
      "[ 0  1  2  3  4  5  6  7  8  9 10 11 12 13 14 15 16]\n",
      "/home/giancarlo/data/innosuisse/fs_lost_and_found/semantic/pred_mask_image_86.png\n",
      "[ 0  1  2  3  4  5  7  8 11 12 13 17]\n",
      "/home/giancarlo/data/innosuisse/fs_lost_and_found/semantic/pred_mask_image_87.png\n",
      "[ 0  1  2  3  4  5  7  8  9 10 11 13 14 15]\n",
      "/home/giancarlo/data/innosuisse/fs_lost_and_found/semantic/pred_mask_image_88.png\n",
      "[ 0  1  2  3  4  5  7  8  9 10 11 12 13 14 15]\n",
      "/home/giancarlo/data/innosuisse/fs_lost_and_found/semantic/pred_mask_image_89.png\n",
      "[ 0  1  2  3  4  5  6  8  9 10 11 12 13 14 15 16 17]\n",
      "90\n",
      "/home/giancarlo/data/innosuisse/fs_lost_and_found/semantic/pred_mask_image_90.png\n",
      "[ 0  1  2  3  4  5  7  8  9 10 12 13 14 15 16 17 18]\n",
      "/home/giancarlo/data/innosuisse/fs_lost_and_found/semantic/pred_mask_image_91.png\n",
      "[ 0  1  2  4  5  6  7  8  9 10 11 12 13 14 15 16 17]\n",
      "/home/giancarlo/data/innosuisse/fs_lost_and_found/semantic/pred_mask_image_92.png\n",
      "[ 0  1  2  3  4  5  6  8  9 10 11 13 14 15 16 17 18]\n",
      "/home/giancarlo/data/innosuisse/fs_lost_and_found/semantic/pred_mask_image_93.png\n",
      "[ 0  1  2  3  4  5  6  7  8 10 11 13]\n",
      "/home/giancarlo/data/innosuisse/fs_lost_and_found/semantic/pred_mask_image_94.png\n",
      "[ 0  1  2  3  4  5  6  7  8  9 10 11 13 16 18]\n",
      "/home/giancarlo/data/innosuisse/fs_lost_and_found/semantic/pred_mask_image_95.png\n",
      "[ 0  1  2  3  4  5  6  7  8  9 10 11 16 18]\n",
      "/home/giancarlo/data/innosuisse/fs_lost_and_found/semantic/pred_mask_image_96.png\n",
      "[ 0  1  2  4  5  7  8  9 10 11 13 15 16 18]\n",
      "/home/giancarlo/data/innosuisse/fs_lost_and_found/semantic/pred_mask_image_97.png\n",
      "[ 0  1  2  4  5  8  9 10 13 14 15 16 17]\n",
      "/home/giancarlo/data/innosuisse/fs_lost_and_found/semantic/pred_mask_image_98.png\n",
      "[ 0  1  2  3  4  5  6  7  8  9 10 11 13 14 15 16 17]\n",
      "/home/giancarlo/data/innosuisse/fs_lost_and_found/semantic/pred_mask_image_99.png\n",
      "[ 0  1  2  3  4  5  6  7  8  9 10 11 12 13 18]\n"
     ]
    }
   ],
   "source": [
    "results = [0]*19\n",
    "\n",
    "for idx, (semantic, label) in enumerate(zip(semantic_paths, label_paths)):        \n",
    "    if (idx % 10) == 0:\n",
    "        print(idx)\n",
    "    print(semantic)\n",
    "    label_img = np.array(Image.open(label))\n",
    "    semantic_img = np.array(Image.open(semantic))\n",
    "    semantic_img_flat = semantic_img.flatten()\n",
    "    label_img_flat = label_img.flatten()\n",
    "    \n",
    "    print(np.unique(semantic_img_flat))\n",
    "    for idx, pixel in enumerate(label_img_flat):\n",
    "        if pixel ==  1:\n",
    "            results[semantic_img_flat[idx]] += 1"
   ]
  },
  {
   "cell_type": "code",
   "execution_count": 224,
   "metadata": {},
   "outputs": [
    {
     "data": {
      "image/png": "[encoded data removed]",
      "text/plain": [
       "<Figure size 432x288 with 1 Axes>"
      ]
     },
     "metadata": {
      "needs_background": "light"
     },
     "output_type": "display_data"
    }
   ],
   "source": [
    "x_bar = range(1,19, 1)\n",
    "fig, ax = plt.subplots()\n",
    "rects1 = ax.bar(x_bar, results[1:])\n",
    "\n",
    "# Add some text for labels, title and custom x-axis tick labels, etc.\n",
    "ax.set_ylabel('Pixel Count')\n",
    "ax.set_xlabel('Labels')\n",
    "ax.set_title('Distribution of Anomaly Labels')\n",
    "ax.set_xticks(x_bar)\n",
    "ax.ticklabel_format(axis='y', style='scientific')"
   ]
  },
  {
   "cell_type": "code",
   "execution_count": 297,
   "metadata": {},
   "outputs": [],
   "source": [
    "# inputs\n",
    "data = '/home/giancarlo/data/innosuisse/fs_lost_and_found'\n",
    "\n",
    "semantic_paths = [os.path.join(data, 'semantic', image) \n",
    "                  for image in os.listdir(os.path.join(data, 'semantic'))]\n",
    "label_paths = [os.path.join(data, 'predictions', 'spade_custom_dynamic_epfl', 'pred', image)\n",
    "                  for image in os.listdir(os.path.join(data, 'predictions', 'spade_custom_dynamic_epfl', 'pred'))]\n",
    "predictions_paths = [os.path.join(data, 'predictions', 'spade_custom_dynamic_epfl', 'label', image)\n",
    "                  for image in os.listdir(os.path.join(data, 'predictions', 'spade_custom_dynamic_epfl', 'label'))]\n",
    "        \n",
    "# We need to sort the images to ensure all the pairs match with each other\n",
    "semantic_paths = natsorted(semantic_paths)\n",
    "label_paths = natsorted(label_paths)\n",
    "predictions_paths = natsorted(predictions_paths)"
   ]
  },
  {
   "cell_type": "code",
   "execution_count": 298,
   "metadata": {},
   "outputs": [
    {
     "name": "stdout",
     "output_type": "stream",
     "text": [
      "0\n",
      "10\n",
      "20\n",
      "30\n",
      "40\n",
      "50\n",
      "60\n",
      "70\n",
      "80\n",
      "90\n"
     ]
    }
   ],
   "source": [
    "results_2 = [0]*30\n",
    "results = [0]*30\n",
    "\n",
    "for idx, (semantic, label, predict) in enumerate(zip(semantic_paths, label_paths, predictions_paths)):        \n",
    "    if (idx % 10) == 0:\n",
    "        print(idx)\n",
    "    predict_img = Image.open(predict)\n",
    "    label_img = np.array(Image.open(label))\n",
    "    semantic_img = np.array(Image.open(semantic).resize(predict_img.size))\n",
    "    predict_img = np.array(predict_img)\n",
    "\n",
    "    semantic_img_flat = semantic_img.flatten()\n",
    "    label_img_flat = label_img.flatten()\n",
    "    predict_img_flat = predict_img.flatten()\n",
    "    \n",
    "    for idx, pixel in enumerate(label_img_flat):\n",
    "        if pixel ==  1:\n",
    "            results[semantic_img_flat[idx]] += 1\n",
    "            if predict_img_flat[idx]==1:\n",
    "                results_2[semantic_img_flat[idx]] += 1"
   ]
  },
  {
   "cell_type": "code",
   "execution_count": 303,
   "metadata": {},
   "outputs": [
    {
     "data": {
      "image/png": "[encoded data removed]",
      "text/plain": [
       "<Figure size 432x288 with 1 Axes>"
      ]
     },
     "metadata": {
      "needs_background": "light"
     },
     "output_type": "display_data"
    }
   ],
   "source": [
    "precision = [result_2/result*100 for result, result_2 in zip(results, results_2) if result_2 != 0]\n",
    "\n",
    "x_bar = range(0,19, 1)\n",
    "fig, ax = plt.subplots()\n",
    "rects1 = ax.bar(x_bar, precision[:19])\n",
    "\n",
    "# Add some text for labels, title and custom x-axis tick labels, etc.\n",
    "ax.set_ylabel('Accuracy (%)')\n",
    "ax.set_xlabel('Labels')\n",
    "ax.set_title('Accuracy per Label')\n",
    "ax.set_xticks(x_bar)\n",
    "ax.ticklabel_format(axis='y', style='scientific')"
   ]
  },
  {
   "cell_type": "markdown",
   "metadata": {},
   "source": [
    "## Road Anomaly"
   ]
  },
  {
   "cell_type": "code",
   "execution_count": 258,
   "metadata": {},
   "outputs": [],
   "source": [
    "# inputs\n",
    "data = '/home/giancarlo/data/innosuisse/road_anomaly'\n",
    "\n",
    "semantic_paths = [os.path.join(data, 'semantic', image) \n",
    "                  for image in os.listdir(os.path.join(data, 'semantic'))]\n",
    "label_paths = [os.path.join(data, 'labels', image)\n",
    "                  for image in os.listdir(os.path.join(data, 'labels'))]\n",
    "\n",
    "# We need to sort the images to ensure all the pairs match with each other\n",
    "semantic_paths = natsorted(semantic_paths)\n",
    "label_paths = natsorted(label_paths)"
   ]
  },
  {
   "cell_type": "code",
   "execution_count": 259,
   "metadata": {},
   "outputs": [
    {
     "name": "stdout",
     "output_type": "stream",
     "text": [
      "0\n",
      "10\n",
      "20\n",
      "30\n",
      "40\n",
      "50\n"
     ]
    }
   ],
   "source": [
    "results = [0]*35\n",
    "\n",
    "for idx, (semantic, label) in enumerate(zip(semantic_paths, label_paths)):        \n",
    "    if (idx % 10) == 0:\n",
    "        print(idx)\n",
    "    label_img = np.array(Image.open(label))\n",
    "    semantic_img = np.array(Image.open(semantic))\n",
    "    semantic_img_flat = semantic_img.flatten()\n",
    "    label_img_flat = label_img.flatten()\n",
    "    \n",
    "    for idx, pixel in enumerate(label_img_flat):\n",
    "        if pixel ==  1:\n",
    "            results[semantic_img_flat[idx]] += 1"
   ]
  },
  {
   "cell_type": "code",
   "execution_count": 260,
   "metadata": {},
   "outputs": [
    {
     "data": {
      "image/png": "[encoded data removed]",
      "text/plain": [
       "<Figure size 432x288 with 1 Axes>"
      ]
     },
     "metadata": {
      "needs_background": "light"
     },
     "output_type": "display_data"
    }
   ],
   "source": [
    "x_bar = range(0,19, 1)\n",
    "fig, ax = plt.subplots()\n",
    "rects1 = ax.bar(x_bar, results[:19])\n",
    "\n",
    "# Add some text for labels, title and custom x-axis tick labels, etc.\n",
    "ax.set_ylabel('Pixel Count')\n",
    "ax.set_xlabel('Labels')\n",
    "ax.set_title('Distribution of Anomaly Labels')\n",
    "ax.set_xticks(x_bar)\n",
    "ax.ticklabel_format(axis='y', style='scientific')"
   ]
  },
  {
   "cell_type": "code",
   "execution_count": 261,
   "metadata": {},
   "outputs": [],
   "source": [
    "# inputs\n",
    "data = '/home/giancarlo/data/innosuisse/road_anomaly'\n",
    "\n",
    "semantic_paths = [os.path.join(data, 'semantic', image) \n",
    "                  for image in os.listdir(os.path.join(data, 'semantic'))]\n",
    "label_paths = [os.path.join(data, 'predictions', 'spade_custom_dynamic_epfl', 'pred', image)\n",
    "                  for image in os.listdir(os.path.join(data, 'predictions', 'spade_custom_dynamic_epfl', 'pred'))]\n",
    "predictions_paths = [os.path.join(data, 'predictions', 'spade_custom_dynamic_epfl', 'label', image)\n",
    "                  for image in os.listdir(os.path.join(data, 'predictions', 'spade_custom_dynamic_epfl', 'label'))]\n",
    "        \n",
    "# We need to sort the images to ensure all the pairs match with each other\n",
    "semantic_paths = natsorted(semantic_paths)\n",
    "label_paths = natsorted(label_paths)\n",
    "predictions_paths = natsorted(predictions_paths)"
   ]
  },
  {
   "cell_type": "code",
   "execution_count": 276,
   "metadata": {},
   "outputs": [
    {
     "name": "stdout",
     "output_type": "stream",
     "text": [
      "0\n",
      "10\n",
      "20\n",
      "30\n",
      "40\n",
      "50\n"
     ]
    }
   ],
   "source": [
    "results_2 = [0]*35\n",
    "results = [0]*35\n",
    "\n",
    "for idx, (semantic, label, predict) in enumerate(zip(semantic_paths, label_paths, predictions_paths)):        \n",
    "    if (idx % 10) == 0:\n",
    "        print(idx)\n",
    "    predict_img = Image.open(predict)\n",
    "    label_img = np.array(Image.open(label))\n",
    "    semantic_img = np.array(Image.open(semantic).resize(predict_img.size))\n",
    "    predict_img = np.array(predict_img)\n",
    "\n",
    "    semantic_img_flat = semantic_img.flatten()\n",
    "    label_img_flat = label_img.flatten()\n",
    "    predict_img_flat = predict_img.flatten()\n",
    "    \n",
    "    for idx, pixel in enumerate(label_img_flat):\n",
    "        if pixel ==  1:\n",
    "            results[semantic_img_flat[idx]] += 1\n",
    "            if predict_img_flat[idx]==1:\n",
    "                results_2[semantic_img_flat[idx]] += 1"
   ]
  },
  {
   "cell_type": "code",
   "execution_count": 280,
   "metadata": {},
   "outputs": [
    {
     "data": {
      "image/png": "[encoded data removed]",
      "text/plain": [
       "<Figure size 432x288 with 1 Axes>"
      ]
     },
     "metadata": {
      "needs_background": "light"
     },
     "output_type": "display_data"
    }
   ],
   "source": [
    "precision = [result_2/result*100 for result, result_2 in zip(results, results_2) if result_2 != 0]\n",
    "\n",
    "x_bar = range(0,19, 1)\n",
    "fig, ax = plt.subplots()\n",
    "rects1 = ax.bar(x_bar, precision[:19])\n",
    "\n",
    "# Add some text for labels, title and custom x-axis tick labels, etc.\n",
    "ax.set_ylabel('Accuracy (%)')\n",
    "ax.set_xlabel('Labels')\n",
    "ax.set_title('Accuracy per Label')\n",
    "ax.set_xticks(x_bar)\n",
    "ax.ticklabel_format(axis='y', style='scientific')"
   ]
  },
  {
   "cell_type": "markdown",
   "metadata": {},
   "source": [
    "## Custom Dataset"
   ]
  },
  {
   "cell_type": "code",
   "execution_count": 15,
   "metadata": {},
   "outputs": [],
   "source": [
    "# inputs\n",
    "data = '/home/giancarlo/data/innosuisse/custom'\n",
    "\n",
    "semantic_paths = [os.path.join(data, 'semantic', image) \n",
    "                  for image in os.listdir(os.path.join(data, 'semantic'))]\n",
    "label_paths = [os.path.join(data, 'labels', image)\n",
    "                  for image in os.listdir(os.path.join(data, 'labels'))]\n",
    "\n",
    "# We need to sort the images to ensure all the pairs match with each other\n",
    "semantic_paths = natsorted(semantic_paths)\n",
    "label_paths = natsorted(label_paths)"
   ]
  },
  {
   "cell_type": "code",
   "execution_count": 16,
   "metadata": {},
   "outputs": [
    {
     "name": "stdout",
     "output_type": "stream",
     "text": [
      "0\n",
      "100\n",
      "200\n",
      "300\n",
      "400\n",
      "500\n",
      "600\n",
      "700\n",
      "800\n",
      "900\n",
      "1000\n",
      "1100\n",
      "1200\n",
      "1300\n",
      "1400\n",
      "1500\n",
      "1600\n",
      "1700\n",
      "1800\n",
      "1900\n",
      "2000\n",
      "2100\n",
      "2200\n",
      "2300\n",
      "2400\n",
      "2500\n",
      "2600\n",
      "2700\n",
      "2800\n",
      "2900\n"
     ]
    }
   ],
   "source": [
    "results = [0]*35\n",
    "\n",
    "for idx, (semantic, label) in enumerate(zip(semantic_paths, label_paths)):        \n",
    "    if (idx % 100) == 0:\n",
    "        print(idx)\n",
    "    label_img = np.array(Image.open(label).resize((512, 256)))\n",
    "    semantic_img = np.array(Image.open(semantic).resize((512, 256)))\n",
    "    semantic_img_flat = semantic_img.flatten()\n",
    "    label_img_flat = label_img.flatten()\n",
    "    \n",
    "    for idx, pixel in enumerate(label_img_flat):\n",
    "        if pixel ==  1:\n",
    "            results[semantic_img_flat[idx]] += 1"
   ]
  },
  {
   "cell_type": "code",
   "execution_count": 17,
   "metadata": {},
   "outputs": [
    {
     "data": {
      "image/png": "[encoded data removed]",
      "text/plain": [
       "<Figure size 432x288 with 1 Axes>"
      ]
     },
     "metadata": {
      "needs_background": "light"
     },
     "output_type": "display_data"
    }
   ],
   "source": [
    "x_bar = range(0,19, 1)\n",
    "fig, ax = plt.subplots()\n",
    "rects1 = ax.bar(x_bar, results[:19])\n",
    "\n",
    "# Add some text for labels, title and custom x-axis tick labels, etc.\n",
    "ax.set_ylabel('Pixel Count')\n",
    "ax.set_xlabel('Labels')\n",
    "ax.set_title('Distribution of Anomaly Labels')\n",
    "ax.set_xticks(x_bar)\n",
    "ax.ticklabel_format(axis='y', style='scientific')"
   ]
  },
  {
   "cell_type": "markdown",
   "metadata": {},
   "source": [
    "## WILD DASH"
   ]
  },
  {
   "cell_type": "code",
   "execution_count": 6,
   "metadata": {},
   "outputs": [],
   "source": [
    "# inputs\n",
    "data = '/home/giancarlo/data/innosuisse/wild_dash'\n",
    "\n",
    "semantic_paths = [os.path.join(data, 'semantic', image) \n",
    "                  for image in os.listdir(os.path.join(data, 'semantic'))]\n",
    "label_paths = [os.path.join(data, 'labels', image)\n",
    "                  for image in os.listdir(os.path.join(data, 'labels'))]\n",
    "\n",
    "# We need to sort the images to ensure all the pairs match with each other\n",
    "semantic_paths = natsorted(semantic_paths)\n",
    "label_paths = natsorted(label_paths)"
   ]
  },
  {
   "cell_type": "code",
   "execution_count": 7,
   "metadata": {},
   "outputs": [
    {
     "name": "stdout",
     "output_type": "stream",
     "text": [
      "0\n",
      "10\n",
      "20\n",
      "30\n",
      "40\n",
      "50\n",
      "60\n"
     ]
    }
   ],
   "source": [
    "results = [0]*19\n",
    "\n",
    "for idx, (semantic, label) in enumerate(zip(semantic_paths, label_paths)):        \n",
    "    if (idx % 10) == 0:\n",
    "        print(idx)\n",
    "    label_img = np.array(Image.open(label))\n",
    "    semantic_img = np.array(Image.open(semantic))\n",
    "    semantic_img_flat = semantic_img.flatten()\n",
    "    label_img_flat = label_img.flatten()\n",
    "    \n",
    "    for idx, pixel in enumerate(label_img_flat):\n",
    "        if pixel ==  1:\n",
    "            results[semantic_img_flat[idx]] += 1"
   ]
  },
  {
   "cell_type": "code",
   "execution_count": 8,
   "metadata": {},
   "outputs": [
    {
     "data": {
      "image/png": "[encoded data removed]",
      "text/plain": [
       "<Figure size 432x288 with 1 Axes>"
      ]
     },
     "metadata": {
      "needs_background": "light"
     },
     "output_type": "display_data"
    }
   ],
   "source": [
    "x_bar = range(0,19, 1)\n",
    "fig, ax = plt.subplots()\n",
    "rects1 = ax.bar(x_bar, results[:19])\n",
    "\n",
    "# Add some text for labels, title and custom x-axis tick labels, etc.\n",
    "ax.set_ylabel('Pixel Count')\n",
    "ax.set_xlabel('Labels')\n",
    "ax.set_title('Distribution of Anomaly Labels')\n",
    "ax.set_xticks(x_bar)\n",
    "ax.ticklabel_format(axis='y', style='scientific')"
   ]
  },
  {
   "cell_type": "markdown",
   "metadata": {},
   "source": [
    "## Mapillary Val"
   ]
  },
  {
   "cell_type": "code",
   "execution_count": 18,
   "metadata": {},
   "outputs": [],
   "source": [
    "# inputs\n",
    "data = '/home/giancarlo/data/innosuisse/mapi/val'\n",
    "\n",
    "semantic_paths = [os.path.join(data, 'semantic', image) \n",
    "                  for image in os.listdir(os.path.join(data, 'semantic'))]\n",
    "label_paths = [os.path.join(data, 'labels', image)\n",
    "                  for image in os.listdir(os.path.join(data, 'labels'))]\n",
    "\n",
    "# We need to sort the images to ensure all the pairs match with each other\n",
    "semantic_paths = natsorted(semantic_paths)\n",
    "label_paths = natsorted(label_paths)"
   ]
  },
  {
   "cell_type": "code",
   "execution_count": 19,
   "metadata": {},
   "outputs": [
    {
     "name": "stdout",
     "output_type": "stream",
     "text": [
      "0\n",
      "100\n",
      "200\n",
      "300\n",
      "400\n",
      "500\n",
      "600\n",
      "700\n",
      "800\n",
      "900\n",
      "1000\n",
      "1100\n",
      "1200\n",
      "1300\n",
      "1400\n",
      "1500\n",
      "1600\n",
      "1700\n",
      "1800\n",
      "1900\n"
     ]
    }
   ],
   "source": [
    "results = [0]*35\n",
    "\n",
    "for idx, (semantic, label) in enumerate(zip(semantic_paths, label_paths)):        \n",
    "    if (idx % 100) == 0:\n",
    "        print(idx)\n",
    "    label_img = np.array(Image.open(label).resize((512, 256)))\n",
    "    semantic_img = np.array(Image.open(semantic).resize((512, 256)))\n",
    "    semantic_img_flat = semantic_img.flatten()\n",
    "    label_img_flat = label_img.flatten()\n",
    "    \n",
    "    for idx, pixel in enumerate(label_img_flat):\n",
    "        if pixel ==  1:\n",
    "            results[semantic_img_flat[idx]] += 1"
   ]
  },
  {
   "cell_type": "code",
   "execution_count": 20,
   "metadata": {},
   "outputs": [
    {
     "data": {
      "image/png": "[encoded data removed]",
      "text/plain": [
       "<Figure size 432x288 with 1 Axes>"
      ]
     },
     "metadata": {
      "needs_background": "light"
     },
     "output_type": "display_data"
    }
   ],
   "source": [
    "x_bar = range(0,19, 1)\n",
    "fig, ax = plt.subplots()\n",
    "rects1 = ax.bar(x_bar, results[:19])\n",
    "\n",
    "# Add some text for labels, title and custom x-axis tick labels, etc.\n",
    "ax.set_ylabel('Pixel Count')\n",
    "ax.set_xlabel('Labels')\n",
    "ax.set_title('Distribution of Anomaly Labels')\n",
    "ax.set_xticks(x_bar)\n",
    "ax.ticklabel_format(axis='y', style='scientific')"
   ]
  },
  {
   "cell_type": "markdown",
   "metadata": {},
   "source": [
    "## Custom Dynamic"
   ]
  },
  {
   "cell_type": "code",
   "execution_count": 23,
   "metadata": {},
   "outputs": [],
   "source": [
    "# inputs\n",
    "data = '/home/giancarlo/data/innosuisse/custom_dynamic'\n",
    "\n",
    "semantic_paths = [os.path.join(data, 'semantic', image) \n",
    "                  for image in os.listdir(os.path.join(data, 'semantic'))]\n",
    "label_paths = [os.path.join(data, 'labels', image)\n",
    "                  for image in os.listdir(os.path.join(data, 'labels'))]\n",
    "\n",
    "# We need to sort the images to ensure all the pairs match with each other\n",
    "semantic_paths = natsorted(semantic_paths)\n",
    "label_paths = natsorted(label_paths)"
   ]
  },
  {
   "cell_type": "code",
   "execution_count": 24,
   "metadata": {},
   "outputs": [
    {
     "name": "stdout",
     "output_type": "stream",
     "text": [
      "0\n",
      "100\n",
      "200\n",
      "300\n",
      "400\n",
      "500\n",
      "600\n",
      "700\n",
      "800\n",
      "900\n",
      "1000\n",
      "1100\n",
      "1200\n",
      "1300\n"
     ]
    }
   ],
   "source": [
    "results = [0]*35\n",
    "\n",
    "for idx, (semantic, label) in enumerate(zip(semantic_paths, label_paths)):        \n",
    "    if (idx % 100) == 0:\n",
    "        print(idx)\n",
    "    label_img = np.array(Image.open(label).resize((512, 256)))\n",
    "    semantic_img = np.array(Image.open(semantic).resize((512, 256)))\n",
    "    semantic_img_flat = semantic_img.flatten()\n",
    "    label_img_flat = label_img.flatten()\n",
    "    \n",
    "    for idx, pixel in enumerate(label_img_flat):\n",
    "        if pixel ==  1:\n",
    "            results[semantic_img_flat[idx]] += 1"
   ]
  },
  {
   "cell_type": "code",
   "execution_count": 25,
   "metadata": {},
   "outputs": [
    {
     "data": {
      "image/png": "[encoded data removed]",
      "text/plain": [
       "<Figure size 432x288 with 1 Axes>"
      ]
     },
     "metadata": {
      "needs_background": "light"
     },
     "output_type": "display_data"
    }
   ],
   "source": [
    "x_bar = range(0,19, 1)\n",
    "fig, ax = plt.subplots()\n",
    "rects1 = ax.bar(x_bar, results[:19])\n",
    "\n",
    "# Add some text for labels, title and custom x-axis tick labels, etc.\n",
    "ax.set_ylabel('Pixel Count')\n",
    "ax.set_xlabel('Labels')\n",
    "ax.set_title('Distribution of Anomaly Labels')\n",
    "ax.set_xticks(x_bar)\n",
    "ax.ticklabel_format(axis='y', style='scientific')"
   ]
  },
  {
   "cell_type": "code",
   "execution_count": null,
   "metadata": {},
   "outputs": [],
   "source": []
  }
 ],
 "metadata": {
  "kernelspec": {
   "display_name": "Python 3",
   "language": "python",
   "name": "python3"
  },
  "language_info": {
   "codemirror_mode": {
    "name": "ipython",
    "version": 3
   },
   "file_extension": ".py",
   "mimetype": "text/x-python",
   "name": "python",
   "nbconvert_exporter": "python",
   "pygments_lexer": "ipython3",
   "version": "3.7.4"
  }
 },
 "nbformat": 4,
 "nbformat_minor": 4
}
